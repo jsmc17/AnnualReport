{
 "cells": [
  {
   "cell_type": "code",
   "execution_count": 23,
   "metadata": {},
   "outputs": [],
   "source": [
    "import pandas as pd"
   ]
  },
  {
   "cell_type": "code",
   "execution_count": 24,
   "metadata": {},
   "outputs": [],
   "source": [
    "nas = pd.read_csv('Nasdaq 100 - Company Info/WRDS output - nasdaq companies info.csv')"
   ]
  },
  {
   "cell_type": "code",
   "execution_count": 25,
   "metadata": {},
   "outputs": [
    {
     "data": {
      "text/html": [
       "<div>\n",
       "<style scoped>\n",
       "    .dataframe tbody tr th:only-of-type {\n",
       "        vertical-align: middle;\n",
       "    }\n",
       "\n",
       "    .dataframe tbody tr th {\n",
       "        vertical-align: top;\n",
       "    }\n",
       "\n",
       "    .dataframe thead th {\n",
       "        text-align: right;\n",
       "    }\n",
       "</style>\n",
       "<table border=\"1\" class=\"dataframe\">\n",
       "  <thead>\n",
       "    <tr style=\"text-align: right;\">\n",
       "      <th></th>\n",
       "      <th>gvkey</th>\n",
       "      <th>datadate</th>\n",
       "      <th>fyear</th>\n",
       "      <th>indfmt</th>\n",
       "      <th>consol</th>\n",
       "      <th>popsrc</th>\n",
       "      <th>datafmt</th>\n",
       "      <th>tic</th>\n",
       "      <th>conm</th>\n",
       "      <th>curcd</th>\n",
       "      <th>cik</th>\n",
       "      <th>costat</th>\n",
       "    </tr>\n",
       "  </thead>\n",
       "  <tbody>\n",
       "    <tr>\n",
       "      <th>0</th>\n",
       "      <td>1161</td>\n",
       "      <td>20201231</td>\n",
       "      <td>2020</td>\n",
       "      <td>INDL</td>\n",
       "      <td>C</td>\n",
       "      <td>D</td>\n",
       "      <td>STD</td>\n",
       "      <td>AMD</td>\n",
       "      <td>ADVANCED MICRO DEVICES</td>\n",
       "      <td>USD</td>\n",
       "      <td>2488</td>\n",
       "      <td>A</td>\n",
       "    </tr>\n",
       "    <tr>\n",
       "      <th>1</th>\n",
       "      <td>1327</td>\n",
       "      <td>20200930</td>\n",
       "      <td>2020</td>\n",
       "      <td>INDL</td>\n",
       "      <td>C</td>\n",
       "      <td>D</td>\n",
       "      <td>STD</td>\n",
       "      <td>SWKS</td>\n",
       "      <td>SKYWORKS SOLUTIONS INC</td>\n",
       "      <td>USD</td>\n",
       "      <td>4127</td>\n",
       "      <td>A</td>\n",
       "    </tr>\n",
       "    <tr>\n",
       "      <th>2</th>\n",
       "      <td>1440</td>\n",
       "      <td>20201231</td>\n",
       "      <td>2020</td>\n",
       "      <td>INDL</td>\n",
       "      <td>C</td>\n",
       "      <td>D</td>\n",
       "      <td>STD</td>\n",
       "      <td>AEP</td>\n",
       "      <td>AMERICAN ELECTRIC POWER CO</td>\n",
       "      <td>USD</td>\n",
       "      <td>4904</td>\n",
       "      <td>A</td>\n",
       "    </tr>\n",
       "    <tr>\n",
       "      <th>3</th>\n",
       "      <td>1602</td>\n",
       "      <td>20201231</td>\n",
       "      <td>2020</td>\n",
       "      <td>INDL</td>\n",
       "      <td>C</td>\n",
       "      <td>D</td>\n",
       "      <td>STD</td>\n",
       "      <td>AMGN</td>\n",
       "      <td>AMGEN INC</td>\n",
       "      <td>USD</td>\n",
       "      <td>318154</td>\n",
       "      <td>A</td>\n",
       "    </tr>\n",
       "    <tr>\n",
       "      <th>4</th>\n",
       "      <td>1632</td>\n",
       "      <td>20201031</td>\n",
       "      <td>2020</td>\n",
       "      <td>INDL</td>\n",
       "      <td>C</td>\n",
       "      <td>D</td>\n",
       "      <td>STD</td>\n",
       "      <td>ADI</td>\n",
       "      <td>ANALOG DEVICES</td>\n",
       "      <td>USD</td>\n",
       "      <td>6281</td>\n",
       "      <td>A</td>\n",
       "    </tr>\n",
       "    <tr>\n",
       "      <th>...</th>\n",
       "      <td>...</td>\n",
       "      <td>...</td>\n",
       "      <td>...</td>\n",
       "      <td>...</td>\n",
       "      <td>...</td>\n",
       "      <td>...</td>\n",
       "      <td>...</td>\n",
       "      <td>...</td>\n",
       "      <td>...</td>\n",
       "      <td>...</td>\n",
       "      <td>...</td>\n",
       "      <td>...</td>\n",
       "    </tr>\n",
       "    <tr>\n",
       "      <th>95</th>\n",
       "      <td>180405</td>\n",
       "      <td>20201231</td>\n",
       "      <td>2020</td>\n",
       "      <td>INDL</td>\n",
       "      <td>C</td>\n",
       "      <td>D</td>\n",
       "      <td>STD</td>\n",
       "      <td>ATVI</td>\n",
       "      <td>ACTIVISION BLIZZARD INC</td>\n",
       "      <td>USD</td>\n",
       "      <td>718877</td>\n",
       "      <td>A</td>\n",
       "    </tr>\n",
       "    <tr>\n",
       "      <th>96</th>\n",
       "      <td>180652</td>\n",
       "      <td>20201231</td>\n",
       "      <td>2020</td>\n",
       "      <td>INDL</td>\n",
       "      <td>C</td>\n",
       "      <td>D</td>\n",
       "      <td>STD</td>\n",
       "      <td>VRSK</td>\n",
       "      <td>VERISK ANALYTICS INC</td>\n",
       "      <td>USD</td>\n",
       "      <td>1442145</td>\n",
       "      <td>A</td>\n",
       "    </tr>\n",
       "    <tr>\n",
       "      <th>97</th>\n",
       "      <td>180711</td>\n",
       "      <td>20201031</td>\n",
       "      <td>2020</td>\n",
       "      <td>INDL</td>\n",
       "      <td>C</td>\n",
       "      <td>D</td>\n",
       "      <td>STD</td>\n",
       "      <td>AVGO</td>\n",
       "      <td>BROADCOM INC</td>\n",
       "      <td>USD</td>\n",
       "      <td>1730168</td>\n",
       "      <td>A</td>\n",
       "    </tr>\n",
       "    <tr>\n",
       "      <th>98</th>\n",
       "      <td>184725</td>\n",
       "      <td>20201231</td>\n",
       "      <td>2020</td>\n",
       "      <td>INDL</td>\n",
       "      <td>C</td>\n",
       "      <td>D</td>\n",
       "      <td>STD</td>\n",
       "      <td>NXPI</td>\n",
       "      <td>NXP SEMICONDUCTORS NV</td>\n",
       "      <td>USD</td>\n",
       "      <td>1413447</td>\n",
       "      <td>A</td>\n",
       "    </tr>\n",
       "    <tr>\n",
       "      <th>99</th>\n",
       "      <td>184996</td>\n",
       "      <td>20201231</td>\n",
       "      <td>2020</td>\n",
       "      <td>INDL</td>\n",
       "      <td>C</td>\n",
       "      <td>D</td>\n",
       "      <td>STD</td>\n",
       "      <td>TSLA</td>\n",
       "      <td>TESLA INC</td>\n",
       "      <td>USD</td>\n",
       "      <td>1318605</td>\n",
       "      <td>A</td>\n",
       "    </tr>\n",
       "  </tbody>\n",
       "</table>\n",
       "<p>100 rows × 12 columns</p>\n",
       "</div>"
      ],
      "text/plain": [
       "     gvkey  datadate  fyear indfmt consol popsrc datafmt   tic  \\\n",
       "0     1161  20201231   2020   INDL      C      D     STD   AMD   \n",
       "1     1327  20200930   2020   INDL      C      D     STD  SWKS   \n",
       "2     1440  20201231   2020   INDL      C      D     STD   AEP   \n",
       "3     1602  20201231   2020   INDL      C      D     STD  AMGN   \n",
       "4     1632  20201031   2020   INDL      C      D     STD   ADI   \n",
       "..     ...       ...    ...    ...    ...    ...     ...   ...   \n",
       "95  180405  20201231   2020   INDL      C      D     STD  ATVI   \n",
       "96  180652  20201231   2020   INDL      C      D     STD  VRSK   \n",
       "97  180711  20201031   2020   INDL      C      D     STD  AVGO   \n",
       "98  184725  20201231   2020   INDL      C      D     STD  NXPI   \n",
       "99  184996  20201231   2020   INDL      C      D     STD  TSLA   \n",
       "\n",
       "                          conm curcd      cik costat  \n",
       "0       ADVANCED MICRO DEVICES   USD     2488      A  \n",
       "1       SKYWORKS SOLUTIONS INC   USD     4127      A  \n",
       "2   AMERICAN ELECTRIC POWER CO   USD     4904      A  \n",
       "3                    AMGEN INC   USD   318154      A  \n",
       "4               ANALOG DEVICES   USD     6281      A  \n",
       "..                         ...   ...      ...    ...  \n",
       "95     ACTIVISION BLIZZARD INC   USD   718877      A  \n",
       "96        VERISK ANALYTICS INC   USD  1442145      A  \n",
       "97                BROADCOM INC   USD  1730168      A  \n",
       "98       NXP SEMICONDUCTORS NV   USD  1413447      A  \n",
       "99                   TESLA INC   USD  1318605      A  \n",
       "\n",
       "[100 rows x 12 columns]"
      ]
     },
     "execution_count": 25,
     "metadata": {},
     "output_type": "execute_result"
    }
   ],
   "source": [
    "nas"
   ]
  },
  {
   "cell_type": "code",
   "execution_count": 26,
   "metadata": {},
   "outputs": [
    {
     "data": {
      "text/plain": [
       "0        2488\n",
       "1        4127\n",
       "2        4904\n",
       "3      318154\n",
       "4        6281\n",
       "       ...   \n",
       "95     718877\n",
       "96    1442145\n",
       "97    1730168\n",
       "98    1413447\n",
       "99    1318605\n",
       "Name: cik, Length: 100, dtype: int64"
      ]
     },
     "execution_count": 26,
     "metadata": {},
     "output_type": "execute_result"
    }
   ],
   "source": [
    "nas.cik"
   ]
  },
  {
   "cell_type": "code",
   "execution_count": 27,
   "metadata": {},
   "outputs": [
    {
     "name": "stdout",
     "output_type": "stream",
     "text": [
      "10-X_C_2016-2018.zip\n"
     ]
    }
   ],
   "source": [
    "!ls 'Annual Reports'"
   ]
  },
  {
   "cell_type": "code",
   "execution_count": null,
   "metadata": {},
   "outputs": [],
   "source": []
  },
  {
   "cell_type": "code",
   "execution_count": null,
   "metadata": {},
   "outputs": [],
   "source": []
  },
  {
   "cell_type": "code",
   "execution_count": null,
   "metadata": {},
   "outputs": [],
   "source": []
  },
  {
   "cell_type": "code",
   "execution_count": null,
   "metadata": {},
   "outputs": [],
   "source": []
  },
  {
   "cell_type": "code",
   "execution_count": 28,
   "metadata": {},
   "outputs": [
    {
     "data": {
      "text/plain": [
       "<zipfile.ZipFile filename='Annual Reports/10-X_C_2016-2018.zip' mode='r'>"
      ]
     },
     "execution_count": 28,
     "metadata": {},
     "output_type": "execute_result"
    }
   ],
   "source": [
    "import zipfile\n",
    "\n",
    "# zip file handler  \n",
    "zip = zipfile.ZipFile('Annual Reports/10-X_C_2016-2018.zip')\n",
    "\n",
    "zip"
   ]
  },
  {
   "cell_type": "code",
   "execution_count": null,
   "metadata": {},
   "outputs": [],
   "source": [
    "\n",
    "\n"
   ]
  },
  {
   "cell_type": "code",
   "execution_count": 29,
   "metadata": {},
   "outputs": [
    {
     "data": {
      "text/plain": [
       "['2016/',\n",
       " '2016/QTR1/',\n",
       " '2016/QTR1/20160104_10-K-A_edgar_data_1576724_0001165527-16-000622_1.txt',\n",
       " '2016/QTR1/20160104_10-K_edgar_data_718924_0001437749-16-023002_1.txt',\n",
       " '2016/QTR1/20160104_10-K_edgar_data_763950_0001078782-16-002107_1.txt',\n",
       " '2016/QTR1/20160104_10-Q-A_edgar_data_1311735_0001165527-16-000621_1.txt',\n",
       " '2016/QTR1/20160104_10-Q_edgar_data_763950_0001078782-16-002110_1.txt',\n",
       " '2016/QTR1/20160104_10-Q_edgar_data_763950_0001078782-16-002112_2.txt',\n",
       " '2016/QTR1/20160104_10-Q_edgar_data_763950_0001078782-16-002115_3.txt',\n",
       " '2016/QTR1/20160105_10-K-A_edgar_data_1133798_0001571049-16-010505_1.txt']"
      ]
     },
     "execution_count": 29,
     "metadata": {},
     "output_type": "execute_result"
    }
   ],
   "source": [
    "# list available files in the container\n",
    "files =  zip.namelist()\n",
    "\n",
    "files[:10] \n",
    "# all files in zipped folder\n",
    "# 2016 - 2018"
   ]
  },
  {
   "cell_type": "code",
   "execution_count": 30,
   "metadata": {},
   "outputs": [
    {
     "data": {
      "text/plain": [
       "87074"
      ]
     },
     "execution_count": 30,
     "metadata": {},
     "output_type": "execute_result"
    }
   ],
   "source": [
    "len(files)\n",
    "# 87000 documents"
   ]
  },
  {
   "cell_type": "code",
   "execution_count": 31,
   "metadata": {},
   "outputs": [
    {
     "data": {
      "text/plain": [
       "[]"
      ]
     },
     "execution_count": 31,
     "metadata": {},
     "output_type": "execute_result"
    }
   ],
   "source": [
    "# aapl = [file for file in files if '_1261333_' in file and '10-K' in file]\n",
    "aapl = [file for file in files if '_1737806_' in file]\n",
    "aapl"
   ]
  },
  {
   "cell_type": "code",
   "execution_count": null,
   "metadata": {},
   "outputs": [],
   "source": [
    "\n"
   ]
  },
  {
   "cell_type": "markdown",
   "metadata": {},
   "source": [
    "Loop for Nasdaq 100 companies:"
   ]
  },
  {
   "cell_type": "code",
   "execution_count": 34,
   "metadata": {},
   "outputs": [],
   "source": [
    "ciks = list(nas.cik)"
   ]
  },
  {
   "cell_type": "code",
   "execution_count": 35,
   "metadata": {},
   "outputs": [
    {
     "data": {
      "text/plain": [
       "[2488, 4127, 4904, 318154, 6281]"
      ]
     },
     "execution_count": 35,
     "metadata": {},
     "output_type": "execute_result"
    }
   ],
   "source": [
    "ciks[:5]"
   ]
  },
  {
   "cell_type": "code",
   "execution_count": 36,
   "metadata": {},
   "outputs": [],
   "source": [
    "all_files = []\n",
    "files_dict = {}\n",
    "\n",
    "for cik in ciks:\n",
    "    cik_string = f'_{str(cik)}_'\n",
    "    tmp = [file for file in files if cik_string in file and '10-K' in file]\n",
    "    files_dict[cik_string] = tmp\n",
    "    all_files += tmp"
   ]
  },
  {
   "cell_type": "code",
   "execution_count": 37,
   "metadata": {},
   "outputs": [
    {
     "data": {
      "text/plain": [
       "(272, 100)"
      ]
     },
     "execution_count": 37,
     "metadata": {},
     "output_type": "execute_result"
    }
   ],
   "source": [
    "len(all_files), len(files_dict)"
   ]
  },
  {
   "cell_type": "code",
   "execution_count": 38,
   "metadata": {},
   "outputs": [
    {
     "data": {
      "text/plain": [
       "['2016/QTR1/20160218_10-K_edgar_data_2488_0000002488-16-000111_1.txt',\n",
       " '2017/QTR1/20170221_10-K_edgar_data_2488_0000002488-17-000043_1.txt',\n",
       " '2018/QTR1/20180227_10-K_edgar_data_2488_0000002488-18-000042_1.txt',\n",
       " '2016/QTR1/20160201_10-K-A_edgar_data_4127_0000004127-16-000042_1.txt',\n",
       " '2016/QTR4/20161122_10-K_edgar_data_4127_0000004127-16-000068_1.txt']"
      ]
     },
     "execution_count": 38,
     "metadata": {},
     "output_type": "execute_result"
    }
   ],
   "source": [
    "all_files[:5]"
   ]
  },
  {
   "cell_type": "code",
   "execution_count": null,
   "metadata": {},
   "outputs": [],
   "source": []
  },
  {
   "cell_type": "code",
   "execution_count": null,
   "metadata": {},
   "outputs": [],
   "source": []
  },
  {
   "cell_type": "code",
   "execution_count": null,
   "metadata": {},
   "outputs": [],
   "source": []
  },
  {
   "cell_type": "code",
   "execution_count": null,
   "metadata": {},
   "outputs": [],
   "source": []
  },
  {
   "cell_type": "code",
   "execution_count": null,
   "metadata": {},
   "outputs": [],
   "source": []
  },
  {
   "cell_type": "code",
   "execution_count": null,
   "metadata": {},
   "outputs": [],
   "source": [
    "# save the extraced file \n",
    "content = f.read()\n",
    "f = open('file_inside_zip.extracted.txt', 'wb')\n",
    "f.write(content)\n",
    "f.close()"
   ]
  }
 ],
 "metadata": {
  "kernelspec": {
   "display_name": "Python 3",
   "language": "python",
   "name": "python3"
  },
  "language_info": {
   "codemirror_mode": {
    "name": "ipython",
    "version": 3
   },
   "file_extension": ".py",
   "mimetype": "text/x-python",
   "name": "python",
   "nbconvert_exporter": "python",
   "pygments_lexer": "ipython3",
   "version": "3.8.3"
  }
 },
 "nbformat": 4,
 "nbformat_minor": 4
}
